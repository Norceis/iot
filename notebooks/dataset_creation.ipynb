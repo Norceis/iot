{
 "cells": [
  {
   "cell_type": "code",
   "execution_count": 1,
   "metadata": {
    "collapsed": true,
    "ExecuteTime": {
     "end_time": "2023-05-18T11:01:29.676127700Z",
     "start_time": "2023-05-18T11:01:28.360096300Z"
    }
   },
   "outputs": [],
   "source": [
    "import numpy as np\n",
    "import copy\n",
    "import random\n",
    "import pandas as pd\n",
    "from tqdm import tqdm\n",
    "import librosa\n",
    "import matplotlib.pyplot as plt\n",
    "import os\n",
    "import pandas\n",
    "import h5py\n",
    "import librosa.display\n",
    "import IPython.display as ipd\n",
    "import skimage.io\n",
    "from PIL import Image\n",
    "import pickle\n",
    "\n",
    "\n",
    "RAWDATA_PATH = 'E:\\iot\\data\\Glosy_zbior'\n",
    "SAVE_PATH = 'E:\\iot\\data\\spectrograms.h5'\n",
    "\n",
    "peoples = ['Adrian',\n",
    "           'Bartek',\n",
    "           'Damian',\n",
    "           'Ewelina',\n",
    "           'Hubert',\n",
    "           'jakub',\n",
    "           'Kamil',\n",
    "           'Kasia',\n",
    "           'Kuba',\n",
    "           'Lukasz',\n",
    "           'Mariusz',\n",
    "           'Mikolaj',\n",
    "           'oskar',\n",
    "           'patryk',\n",
    "           'Pawel',\n",
    "           'przemek',\n",
    "           'Rafal',\n",
    "           'szymon']\n",
    "\n",
    "words = ['background',\n",
    "         'close',\n",
    "         'door',\n",
    "         'down',\n",
    "         'go',\n",
    "         'home',\n",
    "         'left',\n",
    "         'light',\n",
    "         'no',\n",
    "         'off',\n",
    "         'on',\n",
    "         'open',\n",
    "         'right',\n",
    "         'shutdown',\n",
    "         'silence',\n",
    "         'speech',\n",
    "         'stop',\n",
    "         'unknown',\n",
    "         'up',\n",
    "         'windows',\n",
    "         'yes',\n",
    "         ]\n",
    "\n",
    "def save_to_h5(path, group_name, spectros, labels):\n",
    "    try:\n",
    "        with h5py.File(path, 'r+') as hdf:\n",
    "            spectro_group = hdf.create_group(group_name +'_spectros')\n",
    "            labels_group = hdf.create_group(group_name +'_labels')\n",
    "\n",
    "            for i, arr in enumerate(spectros):\n",
    "                spectro_group.create_dataset(str(i), data=arr)\n",
    "\n",
    "            for i, string in enumerate(labels):\n",
    "                labels_group.create_dataset(str(i), data=string)\n",
    "\n",
    "            hdf.close()\n",
    "    except:\n",
    "        with h5py.File(path, 'w') as hdf:\n",
    "            spectro_group = hdf.create_group(group_name +'_spectros')\n",
    "            labels_group = hdf.create_group(group_name +'_labels')\n",
    "\n",
    "            for i, arr in enumerate(spectros):\n",
    "                spectro_group.create_dataset(str(i), data=arr)\n",
    "\n",
    "            for i, string in enumerate(labels):\n",
    "                labels_group.create_dataset(str(i), data=string)\n",
    "\n",
    "            hdf.close()"
   ]
  },
  {
   "cell_type": "markdown",
   "source": [
    "labels = commands"
   ],
   "metadata": {
    "collapsed": false
   }
  },
  {
   "cell_type": "code",
   "execution_count": 2,
   "outputs": [
    {
     "name": "stderr",
     "output_type": "stream",
     "text": [
      "100%|██████████| 1134/1134 [00:06<00:00, 182.39it/s]\n"
     ]
    }
   ],
   "source": [
    "# nonaugmented\n",
    "spectros = []\n",
    "labels = []\n",
    "\n",
    "for root_dir, cur_dir, files in os.walk(RAWDATA_PATH):\n",
    "    for file in tqdm(files):\n",
    "        for command in words:\n",
    "            if str('_' + command.lower() + '_') in file.lower():\n",
    "                labels.append(command)\n",
    "                y, sr = librosa.load(root_dir + '\\\\' + file)\n",
    "                sample = librosa.stft(y)\n",
    "                sample = librosa.amplitude_to_db(np.abs(sample), ref=np.max)\n",
    "                spectros.append(sample)\n",
    "                break\n",
    "\n",
    "save_to_h5(path=SAVE_PATH, group_name='commands_no_aug', spectros=spectros, labels=labels)"
   ],
   "metadata": {
    "collapsed": false,
    "ExecuteTime": {
     "end_time": "2023-05-18T11:01:37.169027500Z",
     "start_time": "2023-05-18T11:01:29.676127700Z"
    }
   }
  },
  {
   "cell_type": "code",
   "execution_count": 3,
   "outputs": [
    {
     "name": "stderr",
     "output_type": "stream",
     "text": [
      "100%|██████████| 1134/1134 [03:54<00:00,  4.84it/s]\n"
     ]
    }
   ],
   "source": [
    "# augmented\n",
    "spectros = []\n",
    "labels = []\n",
    "\n",
    "NOISE_RANGE = (0, 2)\n",
    "pitch_shift_ranges = np.linspace(-2.5, 2.5, num=3)\n",
    "time_shift_ranges = np.linspace(0.8, 1.2, num=3)\n",
    "\n",
    "for root_dir, cur_dir, files in os.walk(RAWDATA_PATH):\n",
    "    for file in tqdm(files):\n",
    "        for command in words:\n",
    "            if str('_' + command.lower() + '_') in file.lower():\n",
    "                y, sr = librosa.load(root_dir + '\\\\' + file)\n",
    "                for pitch_shift in pitch_shift_ranges:\n",
    "                    for time_shift in time_shift_ranges:\n",
    "                        sample = librosa.effects.pitch_shift(y, sr=sr, n_steps=pitch_shift)\n",
    "                        sample = librosa.effects.time_stretch(sample, rate=time_shift)\n",
    "                        sample = sample * np.random.uniform(*NOISE_RANGE, size=sample.shape)\n",
    "                        sample = librosa.stft(sample)\n",
    "                        sample = librosa.amplitude_to_db(np.abs(sample), ref=np.max)\n",
    "                        spectros.append(sample)\n",
    "                        labels.append(command)\n",
    "                break\n",
    "\n",
    "save_to_h5(path=SAVE_PATH, group_name='commands_aug', spectros=spectros, labels=labels)"
   ],
   "metadata": {
    "collapsed": false,
    "ExecuteTime": {
     "end_time": "2023-05-18T11:06:22.700772900Z",
     "start_time": "2023-05-18T11:01:37.174026900Z"
    }
   }
  },
  {
   "cell_type": "markdown",
   "source": [
    "labels = persons"
   ],
   "metadata": {
    "collapsed": false
   }
  },
  {
   "cell_type": "code",
   "execution_count": 4,
   "outputs": [
    {
     "name": "stderr",
     "output_type": "stream",
     "text": [
      "100%|██████████| 1134/1134 [00:03<00:00, 323.81it/s]\n"
     ]
    }
   ],
   "source": [
    "# nonaugmented\n",
    "spectros = []\n",
    "labels = []\n",
    "\n",
    "for root_dir, cur_dir, files in os.walk(RAWDATA_PATH):\n",
    "    for file in tqdm(files):\n",
    "        for person in peoples:\n",
    "            if str(person.lower() + '_') in file.lower():\n",
    "                labels.append(person)\n",
    "                y, sr = librosa.load(root_dir + '\\\\' + file)\n",
    "                sample = librosa.stft(y)\n",
    "                sample = librosa.amplitude_to_db(np.abs(sample), ref=np.max)\n",
    "                spectros.append(sample)\n",
    "                break\n",
    "\n",
    "save_to_h5(path=SAVE_PATH, group_name='peoples_no_aug', spectros=spectros, labels=labels)"
   ],
   "metadata": {
    "collapsed": false,
    "ExecuteTime": {
     "end_time": "2023-05-18T11:06:29.683452900Z",
     "start_time": "2023-05-18T11:06:22.704770900Z"
    }
   }
  },
  {
   "cell_type": "code",
   "execution_count": 5,
   "outputs": [
    {
     "name": "stderr",
     "output_type": "stream",
     "text": [
      "100%|██████████| 1134/1134 [03:52<00:00,  4.87it/s]\n"
     ]
    }
   ],
   "source": [
    "# augmented\n",
    "spectros = []\n",
    "labels = []\n",
    "\n",
    "NOISE_RANGE = (0, 2)\n",
    "pitch_shift_ranges = np.linspace(-2.5, 2.5, num=3)\n",
    "time_shift_ranges = np.linspace(0.8, 1.2, num=3)\n",
    "\n",
    "for root_dir, cur_dir, files in os.walk(RAWDATA_PATH):\n",
    "    for file in tqdm(files):\n",
    "        for person in peoples:\n",
    "            if str(person.lower() + '_') in file.lower():\n",
    "                y, sr = librosa.load(root_dir + '\\\\' + file)\n",
    "                for pitch_shift in pitch_shift_ranges:\n",
    "                    for time_shift in time_shift_ranges:\n",
    "                        sample = librosa.effects.pitch_shift(y, sr=sr, n_steps=pitch_shift)\n",
    "                        sample = librosa.effects.time_stretch(sample, rate=time_shift)\n",
    "                        sample = sample * np.random.uniform(*NOISE_RANGE, size=sample.shape)\n",
    "                        sample = librosa.stft(sample)\n",
    "                        sample = librosa.amplitude_to_db(np.abs(sample), ref=np.max)\n",
    "                        spectros.append(sample)\n",
    "                        labels.append(person)\n",
    "                break\n",
    "\n",
    "save_to_h5(path=SAVE_PATH, group_name='peoples_aug', spectros=spectros, labels=labels)"
   ],
   "metadata": {
    "collapsed": false,
    "ExecuteTime": {
     "end_time": "2023-05-18T11:12:10.886857200Z",
     "start_time": "2023-05-18T11:07:26.290376500Z"
    }
   }
  },
  {
   "cell_type": "code",
   "execution_count": null,
   "outputs": [],
   "source": [
    "len(spectros)"
   ],
   "metadata": {
    "collapsed": false
   }
  },
  {
   "cell_type": "code",
   "execution_count": 48,
   "outputs": [
    {
     "name": "stdout",
     "output_type": "stream",
     "text": [
      "background\n"
     ]
    }
   ],
   "source": [
    "with h5py.File('E:\\iot\\data\\spectrograms.h5', 'r') as hdf:\n",
    "    print(hdf['peoples_aug_labels']['10'][()].decode('utf-8'))"
   ],
   "metadata": {
    "collapsed": false,
    "ExecuteTime": {
     "end_time": "2023-05-18T10:02:14.532146900Z",
     "start_time": "2023-05-18T10:02:14.515149400Z"
    }
   }
  },
  {
   "cell_type": "code",
   "execution_count": null,
   "outputs": [],
   "source": [
    "# from collections import Counter\n",
    "# counter_object = Counter(labels_list)\n",
    "# keys = counter_object.keys()\n",
    "# print(keys, counter_object.values())\n",
    "# len(labels_list)"
   ],
   "metadata": {
    "collapsed": false
   }
  }
 ],
 "metadata": {
  "kernelspec": {
   "display_name": "Python 3",
   "language": "python",
   "name": "python3"
  },
  "language_info": {
   "codemirror_mode": {
    "name": "ipython",
    "version": 2
   },
   "file_extension": ".py",
   "mimetype": "text/x-python",
   "name": "python",
   "nbconvert_exporter": "python",
   "pygments_lexer": "ipython2",
   "version": "2.7.6"
  }
 },
 "nbformat": 4,
 "nbformat_minor": 0
}
