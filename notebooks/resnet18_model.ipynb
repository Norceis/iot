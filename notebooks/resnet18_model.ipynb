{
 "cells": [
  {
   "cell_type": "code",
   "execution_count": 1,
   "metadata": {
    "collapsed": true,
    "ExecuteTime": {
     "end_time": "2023-05-18T12:09:09.244810600Z",
     "start_time": "2023-05-18T12:08:48.371919800Z"
    }
   },
   "outputs": [],
   "source": [
    "import h5py\n",
    "import numpy as np\n",
    "import tensorflow as tf\n",
    "from tensorflow import keras\n",
    "from sklearn.model_selection import train_test_split\n",
    "from sklearn.preprocessing import LabelEncoder\n",
    "from sklearn.metrics import balanced_accuracy_score\n",
    "from PIL import Image\n",
    "from tensorflow.keras.models import Sequential, Model, load_model, model_from_json\n",
    "from tensorflow.keras.layers import Dense, Dropout, Input, Activation, Conv2D, Conv1D, MaxPooling2D, Flatten\n",
    "from tensorflow.keras.optimizers import RMSprop, SGD, Adagrad, Adadelta, Adam\n",
    "from tensorflow.keras.utils import plot_model\n",
    "from tensorflow.keras.callbacks import ModelCheckpoint, EarlyStopping\n",
    "from tensorflow.keras.applications import ResNet50, ResNet101, ResNet152\n",
    "from tensorflow.keras import metrics\n",
    "from tensorflow.keras import losses\n",
    "\n",
    "# from collections import Counter\n",
    "# counter_object = Counter(labels_list)\n",
    "# keys = counter_object.keys()\n",
    "# print(keys, counter_object.values())\n",
    "# len(labels_list)\n",
    "\n",
    "def preprocess_dataset(path_to_h5_file, name):\n",
    "    samples = h5py.File(path_to_h5_file, 'r')[name + '_spectros']\n",
    "    labels = h5py.File(path_to_h5_file, 'r')[name + '_labels']\n",
    "\n",
    "    samples_array = np.zeros(shape=len(samples), dtype=object)\n",
    "    labels_list = []\n",
    "\n",
    "    for sample in range(len(samples)):\n",
    "        samples_array[sample] = samples[str(sample)][()]\n",
    "        labels_list.append(labels[str(sample)][()].decode('utf-8'))\n",
    "\n",
    "    label_encoder = LabelEncoder()\n",
    "    labels_encoded = label_encoder.fit_transform(labels_list)\n",
    "\n",
    "    x_image_size = int(np.amin([sample.shape[1] for sample in samples_array]) + np.amax([sample.shape[1] for sample in samples_array]) / 2)\n",
    "\n",
    "    resized_dataset = samples_array\n",
    "    for index, sample in enumerate(samples_array):\n",
    "        resized_dataset[index] = np.asarray(Image.fromarray(sample).resize((int(x_image_size), int(sample.shape[0] / 10))))\n",
    "\n",
    "    reshaped_dataset = np.zeros((resized_dataset.shape[0], resized_dataset[0].shape[0], resized_dataset[0].shape[1]))\n",
    "    for index, sample in enumerate(resized_dataset):\n",
    "        reshaped_dataset[index] = sample\n",
    "\n",
    "    reshaped_dataset = np.reshape(reshaped_dataset, (reshaped_dataset.shape[0], reshaped_dataset.shape[1], reshaped_dataset.shape[2], 1))\n",
    "\n",
    "    reshaped_dataset_additional_channels = np.repeat(reshaped_dataset, 3, axis=3)\n",
    "\n",
    "    x_train, x_test, y_train, y_test = train_test_split(reshaped_dataset_additional_channels, labels_encoded, test_size=0.2, shuffle=True)\n",
    "    x_train, x_val, y_train, y_val = train_test_split(x_train, y_train, test_size=0.2, shuffle=True)\n",
    "\n",
    "    x_train = x_train.astype('float32')\n",
    "    x_test = x_test.astype('float32')\n",
    "    x_val = x_val.astype('float32')\n",
    "\n",
    "    y_train = keras.utils.to_categorical(y_train, len(label_encoder.classes_))\n",
    "    y_test = keras.utils.to_categorical(y_test, len(label_encoder.classes_))\n",
    "    y_val = keras.utils.to_categorical(y_val, len(label_encoder.classes_))\n",
    "\n",
    "    return x_train, x_test, x_val, y_train, y_test, y_val, len(label_encoder.classes_)\n",
    "\n",
    "def train_model(x_train, x_test, x_val, y_train, y_test, y_val, n_classes, path, epochs=50, save=True):\n",
    "    model = Sequential()\n",
    "    pretrained_model_for_demo= tf.keras.applications.ResNet152(include_top=False,\n",
    "                       input_shape=x_train.shape[1:],\n",
    "                       pooling='avg',classes=n_classes,\n",
    "                       weights='imagenet')\n",
    "\n",
    "    for each_layer in pretrained_model_for_demo.layers:\n",
    "      each_layer.trainable=False\n",
    "\n",
    "    model.add(pretrained_model_for_demo)\n",
    "    model.add(Flatten())\n",
    "    model.add(Dense(512, activation='relu'))\n",
    "    model.add(Dense(n_classes, activation='softmax'))\n",
    "    model.compile(optimizer=Adam(learning_rate=0.001),loss='categorical_crossentropy',metrics=['accuracy'])\n",
    "    datagen = tf.keras.preprocessing.image.ImageDataGenerator(validation_split=0.2)\n",
    "\n",
    "    model.fit(datagen.flow(x_train, y_train, batch_size=16, subset='training', shuffle=True),\n",
    "                                    validation_data=datagen.flow(x_val, y_val, batch_size=16, subset='validation', shuffle=True),\n",
    "                                    epochs=epochs)\n",
    "\n",
    "    image_pred = model.predict(x_test)\n",
    "\n",
    "    y_categorized = []\n",
    "    y_tested = []\n",
    "    for row in range(len(image_pred)):\n",
    "        y_categorized.append(np.argmax(image_pred[row]))\n",
    "        y_tested.append(np.argmax(y_test[row]))\n",
    "\n",
    "    y_categorized = np.reshape(y_categorized, newshape=(len(y_categorized), 1))\n",
    "    y_tested = np.reshape(y_tested, newshape=(len(y_categorized), 1))\n",
    "\n",
    "    print(f'The balanced accuracy score of the model is: {balanced_accuracy_score(y_tested, y_categorized)}')\n",
    "\n",
    "    if save:\n",
    "        model.save(path)"
   ]
  },
  {
   "cell_type": "code",
   "execution_count": 2,
   "outputs": [],
   "source": [
    "x_train, x_test, x_val, y_train, y_test, y_val, n_classes = preprocess_dataset(path_to_h5_file='E:\\iot\\data\\spectrograms.h5', name='peoples_aug')"
   ],
   "metadata": {
    "collapsed": false,
    "ExecuteTime": {
     "end_time": "2023-05-18T12:09:49.603392200Z",
     "start_time": "2023-05-18T12:09:09.244810600Z"
    }
   }
  },
  {
   "cell_type": "code",
   "execution_count": 3,
   "outputs": [
    {
     "name": "stdout",
     "output_type": "stream",
     "text": [
      "Epoch 1/30\n",
      "327/327 [==============================] - 40s 77ms/step - loss: 2.3876 - accuracy: 0.2595 - val_loss: 1.9284 - val_accuracy: 0.3926\n",
      "Epoch 2/30\n",
      "327/327 [==============================] - 21s 63ms/step - loss: 1.8296 - accuracy: 0.4121 - val_loss: 1.7297 - val_accuracy: 0.4387\n",
      "Epoch 3/30\n",
      "327/327 [==============================] - 20s 63ms/step - loss: 1.5907 - accuracy: 0.4890 - val_loss: 1.6690 - val_accuracy: 0.4356\n",
      "Epoch 4/30\n",
      "327/327 [==============================] - 21s 63ms/step - loss: 1.3957 - accuracy: 0.5388 - val_loss: 1.5457 - val_accuracy: 0.5061\n",
      "Epoch 5/30\n",
      "327/327 [==============================] - 21s 63ms/step - loss: 1.2453 - accuracy: 0.5952 - val_loss: 1.4301 - val_accuracy: 0.5184\n",
      "Epoch 6/30\n",
      "327/327 [==============================] - 21s 64ms/step - loss: 1.1043 - accuracy: 0.6387 - val_loss: 1.4084 - val_accuracy: 0.5399\n",
      "Epoch 7/30\n",
      "327/327 [==============================] - 21s 65ms/step - loss: 0.9930 - accuracy: 0.6760 - val_loss: 1.3351 - val_accuracy: 0.5583\n",
      "Epoch 8/30\n",
      "327/327 [==============================] - 20s 62ms/step - loss: 0.8952 - accuracy: 0.7049 - val_loss: 1.3082 - val_accuracy: 0.5552\n",
      "Epoch 9/30\n",
      "327/327 [==============================] - 21s 63ms/step - loss: 0.7963 - accuracy: 0.7332 - val_loss: 1.3111 - val_accuracy: 0.5982\n",
      "Epoch 10/30\n",
      "327/327 [==============================] - 20s 61ms/step - loss: 0.6936 - accuracy: 0.7763 - val_loss: 1.2055 - val_accuracy: 0.6166\n",
      "Epoch 11/30\n",
      "327/327 [==============================] - 20s 61ms/step - loss: 0.6180 - accuracy: 0.7943 - val_loss: 1.3501 - val_accuracy: 0.5798\n",
      "Epoch 12/30\n",
      "327/327 [==============================] - 20s 62ms/step - loss: 0.5421 - accuracy: 0.8191 - val_loss: 1.2099 - val_accuracy: 0.6135\n",
      "Epoch 13/30\n",
      "327/327 [==============================] - 20s 61ms/step - loss: 0.4933 - accuracy: 0.8400 - val_loss: 1.2703 - val_accuracy: 0.6104\n",
      "Epoch 14/30\n",
      "327/327 [==============================] - 20s 62ms/step - loss: 0.4206 - accuracy: 0.8639 - val_loss: 1.3708 - val_accuracy: 0.5920\n",
      "Epoch 15/30\n",
      "327/327 [==============================] - 20s 62ms/step - loss: 0.3644 - accuracy: 0.8877 - val_loss: 1.3613 - val_accuracy: 0.6043\n",
      "Epoch 16/30\n",
      "327/327 [==============================] - 20s 61ms/step - loss: 0.3162 - accuracy: 0.9016 - val_loss: 1.3742 - val_accuracy: 0.6135\n",
      "Epoch 17/30\n",
      "327/327 [==============================] - 20s 61ms/step - loss: 0.2755 - accuracy: 0.9162 - val_loss: 1.2399 - val_accuracy: 0.6595\n",
      "Epoch 18/30\n",
      "327/327 [==============================] - 20s 62ms/step - loss: 0.2618 - accuracy: 0.9175 - val_loss: 1.3168 - val_accuracy: 0.6227\n",
      "Epoch 19/30\n",
      "327/327 [==============================] - 20s 60ms/step - loss: 0.2426 - accuracy: 0.9238 - val_loss: 1.4633 - val_accuracy: 0.6319\n",
      "Epoch 20/30\n",
      "327/327 [==============================] - 20s 62ms/step - loss: 0.2072 - accuracy: 0.9367 - val_loss: 1.5500 - val_accuracy: 0.5982\n",
      "Epoch 21/30\n",
      "327/327 [==============================] - 21s 64ms/step - loss: 0.1770 - accuracy: 0.9455 - val_loss: 1.3593 - val_accuracy: 0.6380\n",
      "Epoch 22/30\n",
      "327/327 [==============================] - 21s 64ms/step - loss: 0.1574 - accuracy: 0.9548 - val_loss: 1.4790 - val_accuracy: 0.6442\n",
      "Epoch 23/30\n",
      "327/327 [==============================] - 21s 64ms/step - loss: 0.1771 - accuracy: 0.9437 - val_loss: 1.4027 - val_accuracy: 0.6380\n",
      "Epoch 24/30\n",
      "327/327 [==============================] - 21s 63ms/step - loss: 0.1733 - accuracy: 0.9460 - val_loss: 1.3787 - val_accuracy: 0.6656\n",
      "Epoch 25/30\n",
      "327/327 [==============================] - 21s 63ms/step - loss: 0.1414 - accuracy: 0.9583 - val_loss: 1.6486 - val_accuracy: 0.6503\n",
      "Epoch 26/30\n",
      "327/327 [==============================] - 21s 64ms/step - loss: 0.1347 - accuracy: 0.9573 - val_loss: 1.4937 - val_accuracy: 0.6503\n",
      "Epoch 27/30\n",
      "327/327 [==============================] - 21s 63ms/step - loss: 0.0889 - accuracy: 0.9767 - val_loss: 1.5559 - val_accuracy: 0.6258\n",
      "Epoch 28/30\n",
      "327/327 [==============================] - 21s 63ms/step - loss: 0.0929 - accuracy: 0.9755 - val_loss: 1.4775 - val_accuracy: 0.6411\n",
      "Epoch 29/30\n",
      "327/327 [==============================] - 20s 62ms/step - loss: 0.1792 - accuracy: 0.9386 - val_loss: 2.0768 - val_accuracy: 0.5736\n",
      "Epoch 30/30\n",
      "327/327 [==============================] - 20s 62ms/step - loss: 0.1102 - accuracy: 0.9713 - val_loss: 1.4872 - val_accuracy: 0.6503\n",
      "64/64 [==============================] - 8s 67ms/step\n",
      "The balanced accuracy score of the model is: 0.6021522798208868\n"
     ]
    },
    {
     "name": "stderr",
     "output_type": "stream",
     "text": [
      "WARNING:absl:Found untraced functions such as _jit_compiled_convolution_op, _jit_compiled_convolution_op, _jit_compiled_convolution_op, _jit_compiled_convolution_op, _jit_compiled_convolution_op while saving (showing 5 of 155). These functions will not be directly callable after loading.\n"
     ]
    },
    {
     "name": "stdout",
     "output_type": "stream",
     "text": [
      "INFO:tensorflow:Assets written to: E:\\iot\\models\\resnet152\\peoples_aug\\assets\n"
     ]
    },
    {
     "name": "stderr",
     "output_type": "stream",
     "text": [
      "INFO:tensorflow:Assets written to: E:\\iot\\models\\resnet152\\peoples_aug\\assets\n"
     ]
    }
   ],
   "source": [
    "train_model(x_train, x_test, x_val, y_train, y_test, y_val, n_classes,\n",
    "            path='E:\\iot\\models\\\\resnet152\\\\peoples_aug', save=True, epochs=30)"
   ],
   "metadata": {
    "collapsed": false,
    "ExecuteTime": {
     "end_time": "2023-05-18T12:21:48.008643300Z",
     "start_time": "2023-05-18T12:09:49.606114900Z"
    }
   }
  },
  {
   "cell_type": "code",
   "execution_count": 3,
   "outputs": [],
   "source": [],
   "metadata": {
    "collapsed": false,
    "ExecuteTime": {
     "end_time": "2023-05-18T12:21:48.023659400Z",
     "start_time": "2023-05-18T12:21:48.010641700Z"
    }
   }
  }
 ],
 "metadata": {
  "kernelspec": {
   "display_name": "Python 3",
   "language": "python",
   "name": "python3"
  },
  "language_info": {
   "codemirror_mode": {
    "name": "ipython",
    "version": 2
   },
   "file_extension": ".py",
   "mimetype": "text/x-python",
   "name": "python",
   "nbconvert_exporter": "python",
   "pygments_lexer": "ipython2",
   "version": "2.7.6"
  }
 },
 "nbformat": 4,
 "nbformat_minor": 0
}
